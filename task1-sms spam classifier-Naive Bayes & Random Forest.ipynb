{
 "cells": [
  {
   "cell_type": "code",
   "execution_count": 1,
   "id": "00ade3dd-3e95-4ea6-871b-c772a916c1b4",
   "metadata": {},
   "outputs": [],
   "source": [
    "import numpy as np\n",
    "import pandas as pd"
   ]
  },
  {
   "cell_type": "code",
   "execution_count": 2,
   "id": "1ad3e921",
   "metadata": {},
   "outputs": [
    {
     "name": "stdout",
     "output_type": "stream",
     "text": [
      "Requirement already satisfied: scikit-learn in c:\\users\\perum\\anaconda3\\envs\\my-env\\lib\\site-packages (1.0.2)\n",
      "Requirement already satisfied: numpy>=1.14.6 in c:\\users\\perum\\anaconda3\\envs\\my-env\\lib\\site-packages (from scikit-learn) (1.21.6)\n",
      "Requirement already satisfied: scipy>=1.1.0 in c:\\users\\perum\\anaconda3\\envs\\my-env\\lib\\site-packages (from scikit-learn) (1.7.3)\n",
      "Requirement already satisfied: joblib>=0.11 in c:\\users\\perum\\anaconda3\\envs\\my-env\\lib\\site-packages (from scikit-learn) (1.3.2)\n",
      "Requirement already satisfied: threadpoolctl>=2.0.0 in c:\\users\\perum\\anaconda3\\envs\\my-env\\lib\\site-packages (from scikit-learn) (3.1.0)\n",
      "Note: you may need to restart the kernel to use updated packages.\n"
     ]
    }
   ],
   "source": [
    "pip install scikit-learn"
   ]
  },
  {
   "cell_type": "code",
   "execution_count": 3,
   "id": "01f53911",
   "metadata": {},
   "outputs": [],
   "source": [
    "import matplotlib.pyplot as plt\n",
    "import seaborn as sns\n",
    "import scipy as sp\n",
    "from sklearn import feature_extraction, model_selection, naive_bayes, metrics, svm\n",
    "from sklearn.ensemble import RandomForestClassifier\n",
    "from sklearn.model_selection import train_test_split\n",
    "from sklearn.metrics import precision_recall_fscore_support as score\n",
    "%matplotlib inline"
   ]
  },
  {
   "cell_type": "code",
   "execution_count": 4,
   "id": "095f4cd5",
   "metadata": {},
   "outputs": [],
   "source": [
    "import pandas as pd"
   ]
  },
  {
   "cell_type": "code",
   "execution_count": 5,
   "id": "f3b46253-f634-438a-bb7a-fb5203b70f91",
   "metadata": {},
   "outputs": [],
   "source": [
    "dataset = pd.read_csv(r\"C:\\Users\\perum\\Desktop\\spam.csv\",encoding='latin1')\n",
    "\n"
   ]
  },
  {
   "cell_type": "code",
   "execution_count": 6,
   "id": "7361e5db-fbe0-4ef6-9c4a-4240e50d93e9",
   "metadata": {},
   "outputs": [
    {
     "data": {
      "text/html": [
       "<div>\n",
       "<style scoped>\n",
       "    .dataframe tbody tr th:only-of-type {\n",
       "        vertical-align: middle;\n",
       "    }\n",
       "\n",
       "    .dataframe tbody tr th {\n",
       "        vertical-align: top;\n",
       "    }\n",
       "\n",
       "    .dataframe thead th {\n",
       "        text-align: right;\n",
       "    }\n",
       "</style>\n",
       "<table border=\"1\" class=\"dataframe\">\n",
       "  <thead>\n",
       "    <tr style=\"text-align: right;\">\n",
       "      <th></th>\n",
       "      <th>v1</th>\n",
       "      <th>v2</th>\n",
       "      <th>Unnamed: 2</th>\n",
       "      <th>Unnamed: 3</th>\n",
       "      <th>Unnamed: 4</th>\n",
       "    </tr>\n",
       "  </thead>\n",
       "  <tbody>\n",
       "    <tr>\n",
       "      <th>0</th>\n",
       "      <td>ham</td>\n",
       "      <td>Go until jurong point, crazy.. Available only ...</td>\n",
       "      <td>NaN</td>\n",
       "      <td>NaN</td>\n",
       "      <td>NaN</td>\n",
       "    </tr>\n",
       "    <tr>\n",
       "      <th>1</th>\n",
       "      <td>ham</td>\n",
       "      <td>Ok lar... Joking wif u oni...</td>\n",
       "      <td>NaN</td>\n",
       "      <td>NaN</td>\n",
       "      <td>NaN</td>\n",
       "    </tr>\n",
       "    <tr>\n",
       "      <th>2</th>\n",
       "      <td>spam</td>\n",
       "      <td>Free entry in 2 a wkly comp to win FA Cup fina...</td>\n",
       "      <td>NaN</td>\n",
       "      <td>NaN</td>\n",
       "      <td>NaN</td>\n",
       "    </tr>\n",
       "    <tr>\n",
       "      <th>3</th>\n",
       "      <td>ham</td>\n",
       "      <td>U dun say so early hor... U c already then say...</td>\n",
       "      <td>NaN</td>\n",
       "      <td>NaN</td>\n",
       "      <td>NaN</td>\n",
       "    </tr>\n",
       "    <tr>\n",
       "      <th>4</th>\n",
       "      <td>ham</td>\n",
       "      <td>Nah I don't think he goes to usf, he lives aro...</td>\n",
       "      <td>NaN</td>\n",
       "      <td>NaN</td>\n",
       "      <td>NaN</td>\n",
       "    </tr>\n",
       "  </tbody>\n",
       "</table>\n",
       "</div>"
      ],
      "text/plain": [
       "     v1                                                 v2 Unnamed: 2  \\\n",
       "0   ham  Go until jurong point, crazy.. Available only ...        NaN   \n",
       "1   ham                      Ok lar... Joking wif u oni...        NaN   \n",
       "2  spam  Free entry in 2 a wkly comp to win FA Cup fina...        NaN   \n",
       "3   ham  U dun say so early hor... U c already then say...        NaN   \n",
       "4   ham  Nah I don't think he goes to usf, he lives aro...        NaN   \n",
       "\n",
       "  Unnamed: 3 Unnamed: 4  \n",
       "0        NaN        NaN  \n",
       "1        NaN        NaN  \n",
       "2        NaN        NaN  \n",
       "3        NaN        NaN  \n",
       "4        NaN        NaN  "
      ]
     },
     "execution_count": 6,
     "metadata": {},
     "output_type": "execute_result"
    }
   ],
   "source": [
    "dataset.head()"
   ]
  },
  {
   "cell_type": "code",
   "execution_count": 7,
   "id": "7315ce8c-bf4e-4882-a911-57cc7ca98f2e",
   "metadata": {},
   "outputs": [],
   "source": [
    "#removing unnamed columns\n",
    "dataset = dataset.drop('Unnamed: 2',axis=1)\n",
    "dataset = dataset.drop('Unnamed: 3',axis=1)\n",
    "dataset = dataset.drop('Unnamed: 4',axis=1)"
   ]
  },
  {
   "cell_type": "code",
   "execution_count": 8,
   "id": "ef3550cc-5e2e-40be-8c35-3fc487588aba",
   "metadata": {},
   "outputs": [],
   "source": [
    "dataset = dataset.rename(columns = {'v1':'label','v2':'message'})"
   ]
  },
  {
   "cell_type": "code",
   "execution_count": 9,
   "id": "12d61e0b-baa9-44e7-83bf-8ae697786fd0",
   "metadata": {},
   "outputs": [
    {
     "data": {
      "text/html": [
       "<div>\n",
       "<style scoped>\n",
       "    .dataframe tbody tr th:only-of-type {\n",
       "        vertical-align: middle;\n",
       "    }\n",
       "\n",
       "    .dataframe tbody tr th {\n",
       "        vertical-align: top;\n",
       "    }\n",
       "\n",
       "    .dataframe thead tr th {\n",
       "        text-align: left;\n",
       "    }\n",
       "\n",
       "    .dataframe thead tr:last-of-type th {\n",
       "        text-align: right;\n",
       "    }\n",
       "</style>\n",
       "<table border=\"1\" class=\"dataframe\">\n",
       "  <thead>\n",
       "    <tr>\n",
       "      <th></th>\n",
       "      <th colspan=\"4\" halign=\"left\">message</th>\n",
       "    </tr>\n",
       "    <tr>\n",
       "      <th></th>\n",
       "      <th>count</th>\n",
       "      <th>unique</th>\n",
       "      <th>top</th>\n",
       "      <th>freq</th>\n",
       "    </tr>\n",
       "    <tr>\n",
       "      <th>label</th>\n",
       "      <th></th>\n",
       "      <th></th>\n",
       "      <th></th>\n",
       "      <th></th>\n",
       "    </tr>\n",
       "  </thead>\n",
       "  <tbody>\n",
       "    <tr>\n",
       "      <th>ham</th>\n",
       "      <td>4825</td>\n",
       "      <td>4516</td>\n",
       "      <td>Sorry, I'll call later</td>\n",
       "      <td>30</td>\n",
       "    </tr>\n",
       "    <tr>\n",
       "      <th>spam</th>\n",
       "      <td>747</td>\n",
       "      <td>653</td>\n",
       "      <td>Please call our customer service representativ...</td>\n",
       "      <td>4</td>\n",
       "    </tr>\n",
       "  </tbody>\n",
       "</table>\n",
       "</div>"
      ],
      "text/plain": [
       "      message                                                               \n",
       "        count unique                                                top freq\n",
       "label                                                                       \n",
       "ham      4825   4516                             Sorry, I'll call later   30\n",
       "spam      747    653  Please call our customer service representativ...    4"
      ]
     },
     "execution_count": 9,
     "metadata": {},
     "output_type": "execute_result"
    }
   ],
   "source": [
    "dataset.groupby('label').describe()"
   ]
  },
  {
   "cell_type": "code",
   "execution_count": 10,
   "id": "3fd7ff86-3796-45e3-ace2-d42a8486aaf2",
   "metadata": {},
   "outputs": [
    {
     "data": {
      "image/png": "[encoded data removed]",
      "text/plain": [
       "<Figure size 640x480 with 1 Axes>"
      ]
     },
     "metadata": {},
     "output_type": "display_data"
    }
   ],
   "source": [
    "count_Class=pd.value_counts(dataset[\"label\"], sort= True)\n",
    "count_Class.plot(kind = 'bar',color = [\"green\",\"red\"])\n",
    "plt.title('Bar Plot')\n",
    "plt.show();"
   ]
  },
  {
   "cell_type": "code",
   "execution_count": 11,
   "id": "3df4fe60",
   "metadata": {},
   "outputs": [],
   "source": [
    "import numpy as np"
   ]
  },
  {
   "cell_type": "code",
   "execution_count": 12,
   "id": "1322996f-c3f2-44a2-973e-e3174439d21d",
   "metadata": {},
   "outputs": [
    {
     "data": {
      "text/plain": [
       "(5572, 8404)"
      ]
     },
     "execution_count": 12,
     "metadata": {},
     "output_type": "execute_result"
    }
   ],
   "source": [
    "f = feature_extraction.text.CountVectorizer(stop_words = 'english')\n",
    "X = f.fit_transform(dataset[\"message\"])\n",
    "np.shape(X)"
   ]
  },
  {
   "cell_type": "code",
   "execution_count": 13,
   "id": "c35ec90d-1b37-4f93-8ba9-7aadf117dd5b",
   "metadata": {},
   "outputs": [],
   "source": [
    "# Classifying spam and not spam msgs as 1 and 0\n",
    "\n",
    "dataset[\"label\"]=dataset[\"label\"].map({'spam':1,'ham':0})\n",
    "X_train, X_test, y_train, y_test = model_selection.train_test_split(X, dataset['label'], test_size=0.70, random_state=42)"
   ]
  },
  {
   "cell_type": "code",
   "execution_count": 14,
   "id": "adaa9165",
   "metadata": {},
   "outputs": [],
   "source": [
    "dataset.isnull()\n",
    "dataset.isnull().sum().sum()\n",
    "dataset.dropna(inplace=True)"
   ]
  },
  {
   "cell_type": "code",
   "execution_count": 15,
   "id": "9b59c8f2-2fd1-42cd-9577-f2bdf304cb8a",
   "metadata": {},
   "outputs": [],
   "source": [
    "list_alpha = np.arange(1/100000, 20, 0.11)\n",
    "score_train = np.zeros(len(list_alpha))\n",
    "score_test = np.zeros(len(list_alpha))\n",
    "recall_test = np.zeros(len(list_alpha))\n",
    "precision_test= np.zeros(len(list_alpha))\n",
    "count = 0\n",
    "dataset.replace([np.inf,-np.inf],np.nan,inplace=True)\n",
    "dataset.fillna(999,inplace=True)"
   ]
  },
  {
   "cell_type": "code",
   "execution_count": 16,
   "id": "8bff9664",
   "metadata": {},
   "outputs": [],
   "source": [
    "for alpha in list_alpha:\n",
    "    bayes = naive_bayes.MultinomialNB(alpha=alpha)\n",
    "    bayes.fit(X_train, y_train)\n",
    "    score_train[count] = bayes.score(X_train, y_train)\n",
    "    score_test[count]= bayes.score(X_test, y_test)\n",
    "    recall_test[count] = metrics.recall_score(y_test, bayes.predict(X_test))\n",
    "    precision_test[count] = metrics.precision_score(y_test, bayes.predict(X_test))\n",
    "    count = count + 1 "
   ]
  },
  {
   "cell_type": "code",
   "execution_count": 17,
   "id": "cb45c1a5",
   "metadata": {},
   "outputs": [
    {
     "data": {
      "text/html": [
       "<div>\n",
       "<style scoped>\n",
       "    .dataframe tbody tr th:only-of-type {\n",
       "        vertical-align: middle;\n",
       "    }\n",
       "\n",
       "    .dataframe tbody tr th {\n",
       "        vertical-align: top;\n",
       "    }\n",
       "\n",
       "    .dataframe thead th {\n",
       "        text-align: right;\n",
       "    }\n",
       "</style>\n",
       "<table border=\"1\" class=\"dataframe\">\n",
       "  <thead>\n",
       "    <tr style=\"text-align: right;\">\n",
       "      <th></th>\n",
       "      <th>alpha</th>\n",
       "      <th>Train Accuracy</th>\n",
       "      <th>Test Accuracy</th>\n",
       "      <th>Test Recall</th>\n",
       "      <th>Test Precision</th>\n",
       "    </tr>\n",
       "  </thead>\n",
       "  <tbody>\n",
       "    <tr>\n",
       "      <th>0</th>\n",
       "      <td>0.00001</td>\n",
       "      <td>0.998803</td>\n",
       "      <td>0.961805</td>\n",
       "      <td>0.913793</td>\n",
       "      <td>0.820998</td>\n",
       "    </tr>\n",
       "    <tr>\n",
       "      <th>1</th>\n",
       "      <td>0.11001</td>\n",
       "      <td>0.998803</td>\n",
       "      <td>0.966163</td>\n",
       "      <td>0.946360</td>\n",
       "      <td>0.826087</td>\n",
       "    </tr>\n",
       "    <tr>\n",
       "      <th>2</th>\n",
       "      <td>0.22001</td>\n",
       "      <td>0.999402</td>\n",
       "      <td>0.967444</td>\n",
       "      <td>0.938697</td>\n",
       "      <td>0.837607</td>\n",
       "    </tr>\n",
       "    <tr>\n",
       "      <th>3</th>\n",
       "      <td>0.33001</td>\n",
       "      <td>0.999402</td>\n",
       "      <td>0.968726</td>\n",
       "      <td>0.938697</td>\n",
       "      <td>0.844828</td>\n",
       "    </tr>\n",
       "    <tr>\n",
       "      <th>4</th>\n",
       "      <td>0.44001</td>\n",
       "      <td>0.999402</td>\n",
       "      <td>0.971546</td>\n",
       "      <td>0.929119</td>\n",
       "      <td>0.867621</td>\n",
       "    </tr>\n",
       "    <tr>\n",
       "      <th>5</th>\n",
       "      <td>0.55001</td>\n",
       "      <td>0.998803</td>\n",
       "      <td>0.976160</td>\n",
       "      <td>0.925287</td>\n",
       "      <td>0.899441</td>\n",
       "    </tr>\n",
       "    <tr>\n",
       "      <th>6</th>\n",
       "      <td>0.66001</td>\n",
       "      <td>0.998803</td>\n",
       "      <td>0.976160</td>\n",
       "      <td>0.919540</td>\n",
       "      <td>0.903955</td>\n",
       "    </tr>\n",
       "    <tr>\n",
       "      <th>7</th>\n",
       "      <td>0.77001</td>\n",
       "      <td>0.997606</td>\n",
       "      <td>0.977698</td>\n",
       "      <td>0.917625</td>\n",
       "      <td>0.915870</td>\n",
       "    </tr>\n",
       "    <tr>\n",
       "      <th>8</th>\n",
       "      <td>0.88001</td>\n",
       "      <td>0.997606</td>\n",
       "      <td>0.977954</td>\n",
       "      <td>0.909962</td>\n",
       "      <td>0.924125</td>\n",
       "    </tr>\n",
       "    <tr>\n",
       "      <th>9</th>\n",
       "      <td>0.99001</td>\n",
       "      <td>0.997606</td>\n",
       "      <td>0.978980</td>\n",
       "      <td>0.902299</td>\n",
       "      <td>0.938247</td>\n",
       "    </tr>\n",
       "  </tbody>\n",
       "</table>\n",
       "</div>"
      ],
      "text/plain": [
       "     alpha  Train Accuracy  Test Accuracy  Test Recall  Test Precision\n",
       "0  0.00001        0.998803       0.961805     0.913793        0.820998\n",
       "1  0.11001        0.998803       0.966163     0.946360        0.826087\n",
       "2  0.22001        0.999402       0.967444     0.938697        0.837607\n",
       "3  0.33001        0.999402       0.968726     0.938697        0.844828\n",
       "4  0.44001        0.999402       0.971546     0.929119        0.867621\n",
       "5  0.55001        0.998803       0.976160     0.925287        0.899441\n",
       "6  0.66001        0.998803       0.976160     0.919540        0.903955\n",
       "7  0.77001        0.997606       0.977698     0.917625        0.915870\n",
       "8  0.88001        0.997606       0.977954     0.909962        0.924125\n",
       "9  0.99001        0.997606       0.978980     0.902299        0.938247"
      ]
     },
     "execution_count": 17,
     "metadata": {},
     "output_type": "execute_result"
    }
   ],
   "source": [
    "matrix = np.matrix(np.c_[list_alpha, score_train, score_test, recall_test, precision_test])\n",
    "models = pd.DataFrame(data = matrix, columns = \n",
    "             ['alpha', 'Train Accuracy', 'Test Accuracy', 'Test Recall', 'Test Precision'])\n",
    "models.head(n=10)"
   ]
  },
  {
   "cell_type": "code",
   "execution_count": 18,
   "id": "df909995-ad2f-4419-88aa-ec6dc7233291",
   "metadata": {},
   "outputs": [
    {
     "data": {
      "text/html": [
       "<div>\n",
       "<style scoped>\n",
       "    .dataframe tbody tr th:only-of-type {\n",
       "        vertical-align: middle;\n",
       "    }\n",
       "\n",
       "    .dataframe tbody tr th {\n",
       "        vertical-align: top;\n",
       "    }\n",
       "\n",
       "    .dataframe thead th {\n",
       "        text-align: right;\n",
       "    }\n",
       "</style>\n",
       "<table border=\"1\" class=\"dataframe\">\n",
       "  <thead>\n",
       "    <tr style=\"text-align: right;\">\n",
       "      <th></th>\n",
       "      <th>alpha</th>\n",
       "      <th>Train Accuracy</th>\n",
       "      <th>Test Accuracy</th>\n",
       "      <th>Test Recall</th>\n",
       "      <th>Test Precision</th>\n",
       "    </tr>\n",
       "  </thead>\n",
       "  <tbody>\n",
       "    <tr>\n",
       "      <th>0</th>\n",
       "      <td>0.00001</td>\n",
       "      <td>0.998803</td>\n",
       "      <td>0.961805</td>\n",
       "      <td>0.913793</td>\n",
       "      <td>0.820998</td>\n",
       "    </tr>\n",
       "    <tr>\n",
       "      <th>1</th>\n",
       "      <td>0.11001</td>\n",
       "      <td>0.998803</td>\n",
       "      <td>0.966163</td>\n",
       "      <td>0.946360</td>\n",
       "      <td>0.826087</td>\n",
       "    </tr>\n",
       "    <tr>\n",
       "      <th>2</th>\n",
       "      <td>0.22001</td>\n",
       "      <td>0.999402</td>\n",
       "      <td>0.967444</td>\n",
       "      <td>0.938697</td>\n",
       "      <td>0.837607</td>\n",
       "    </tr>\n",
       "    <tr>\n",
       "      <th>3</th>\n",
       "      <td>0.33001</td>\n",
       "      <td>0.999402</td>\n",
       "      <td>0.968726</td>\n",
       "      <td>0.938697</td>\n",
       "      <td>0.844828</td>\n",
       "    </tr>\n",
       "    <tr>\n",
       "      <th>4</th>\n",
       "      <td>0.44001</td>\n",
       "      <td>0.999402</td>\n",
       "      <td>0.971546</td>\n",
       "      <td>0.929119</td>\n",
       "      <td>0.867621</td>\n",
       "    </tr>\n",
       "    <tr>\n",
       "      <th>5</th>\n",
       "      <td>0.55001</td>\n",
       "      <td>0.998803</td>\n",
       "      <td>0.976160</td>\n",
       "      <td>0.925287</td>\n",
       "      <td>0.899441</td>\n",
       "    </tr>\n",
       "    <tr>\n",
       "      <th>6</th>\n",
       "      <td>0.66001</td>\n",
       "      <td>0.998803</td>\n",
       "      <td>0.976160</td>\n",
       "      <td>0.919540</td>\n",
       "      <td>0.903955</td>\n",
       "    </tr>\n",
       "    <tr>\n",
       "      <th>7</th>\n",
       "      <td>0.77001</td>\n",
       "      <td>0.997606</td>\n",
       "      <td>0.977698</td>\n",
       "      <td>0.917625</td>\n",
       "      <td>0.915870</td>\n",
       "    </tr>\n",
       "    <tr>\n",
       "      <th>8</th>\n",
       "      <td>0.88001</td>\n",
       "      <td>0.997606</td>\n",
       "      <td>0.977954</td>\n",
       "      <td>0.909962</td>\n",
       "      <td>0.924125</td>\n",
       "    </tr>\n",
       "    <tr>\n",
       "      <th>9</th>\n",
       "      <td>0.99001</td>\n",
       "      <td>0.997606</td>\n",
       "      <td>0.978980</td>\n",
       "      <td>0.902299</td>\n",
       "      <td>0.938247</td>\n",
       "    </tr>\n",
       "  </tbody>\n",
       "</table>\n",
       "</div>"
      ],
      "text/plain": [
       "     alpha  Train Accuracy  Test Accuracy  Test Recall  Test Precision\n",
       "0  0.00001        0.998803       0.961805     0.913793        0.820998\n",
       "1  0.11001        0.998803       0.966163     0.946360        0.826087\n",
       "2  0.22001        0.999402       0.967444     0.938697        0.837607\n",
       "3  0.33001        0.999402       0.968726     0.938697        0.844828\n",
       "4  0.44001        0.999402       0.971546     0.929119        0.867621\n",
       "5  0.55001        0.998803       0.976160     0.925287        0.899441\n",
       "6  0.66001        0.998803       0.976160     0.919540        0.903955\n",
       "7  0.77001        0.997606       0.977698     0.917625        0.915870\n",
       "8  0.88001        0.997606       0.977954     0.909962        0.924125\n",
       "9  0.99001        0.997606       0.978980     0.902299        0.938247"
      ]
     },
     "execution_count": 18,
     "metadata": {},
     "output_type": "execute_result"
    }
   ],
   "source": [
    "matrix = np.matrix(np.c_[list_alpha, score_train, score_test, recall_test, precision_test])\n",
    "models = pd.DataFrame(data = matrix, columns = \n",
    "             ['alpha', 'Train Accuracy', 'Test Accuracy', 'Test Recall', 'Test Precision'])\n",
    "models.head(n=10)"
   ]
  },
  {
   "cell_type": "code",
   "execution_count": 19,
   "id": "4a47bb71-4b89-4da4-8ed4-c32841bd7cb4",
   "metadata": {},
   "outputs": [
    {
     "data": {
      "text/plain": [
       "alpha             10.670010\n",
       "Train Accuracy     0.977259\n",
       "Test Accuracy      0.962574\n",
       "Test Recall        0.720307\n",
       "Test Precision     1.000000\n",
       "Name: 97, dtype: float64"
      ]
     },
     "execution_count": 19,
     "metadata": {},
     "output_type": "execute_result"
    }
   ],
   "source": [
    "best_index = models['Test Precision'].idxmax()\n",
    "models.iloc[best_index, :]"
   ]
  },
  {
   "cell_type": "code",
   "execution_count": 20,
   "id": "67777d28-7278-4a6b-99ca-34fb1922bafc",
   "metadata": {},
   "outputs": [],
   "source": [
    "rf = RandomForestClassifier(n_estimators=100,max_depth=None,n_jobs=-1)\n",
    "rf_model = rf.fit(X_train,y_train)"
   ]
  },
  {
   "cell_type": "code",
   "execution_count": 21,
   "id": "a11814ec-7032-4467-b152-e42a6235f8fa",
   "metadata": {},
   "outputs": [
    {
     "name": "stdout",
     "output_type": "stream",
     "text": [
      "Precision : 0.995 / Recall : 0.718 / fscore : 0.834 / Accuracy: 0.962\n"
     ]
    }
   ],
   "source": [
    "y_pred=rf_model.predict(X_test)\n",
    "precision,recall,fscore,support =score(y_test,y_pred,pos_label=1, average ='binary')\n",
    "print('Precision : {} / Recall : {} / fscore : {} / Accuracy: {}'.format(round(precision,3),round(recall,3),round(fscore,3),round((y_pred==y_test).sum()/len(y_test),3)))"
   ]
  },
  {
   "cell_type": "code",
   "execution_count": 22,
   "id": "267b04ba-29ec-42db-9f5e-4e7f63e1759d",
   "metadata": {},
   "outputs": [
    {
     "name": "stdout",
     "output_type": "stream",
     "text": [
      "Requirement already satisfied: tensorflow in c:\\users\\perum\\anaconda3\\envs\\my-env\\lib\\site-packages (2.10.0)\n",
      "Requirement already satisfied: absl-py>=1.0.0 in c:\\users\\perum\\anaconda3\\envs\\my-env\\lib\\site-packages (from tensorflow) (2.0.0)\n",
      "Requirement already satisfied: astunparse>=1.6.0 in c:\\users\\perum\\anaconda3\\envs\\my-env\\lib\\site-packages (from tensorflow) (1.6.3)\n",
      "Requirement already satisfied: flatbuffers>=2.0 in c:\\users\\perum\\anaconda3\\envs\\my-env\\lib\\site-packages (from tensorflow) (23.5.26)\n",
      "Requirement already satisfied: gast<=0.4.0,>=0.2.1 in c:\\users\\perum\\anaconda3\\envs\\my-env\\lib\\site-packages (from tensorflow) (0.4.0)\n",
      "Requirement already satisfied: google-pasta>=0.1.1 in c:\\users\\perum\\anaconda3\\envs\\my-env\\lib\\site-packages (from tensorflow) (0.2.0)\n",
      "Requirement already satisfied: h5py>=2.9.0 in c:\\users\\perum\\anaconda3\\envs\\my-env\\lib\\site-packages (from tensorflow) (3.7.0)\n",
      "Requirement already satisfied: keras-preprocessing>=1.1.1 in c:\\users\\perum\\anaconda3\\envs\\my-env\\lib\\site-packages (from tensorflow) (1.1.2)\n",
      "Requirement already satisfied: libclang>=13.0.0 in c:\\users\\perum\\anaconda3\\envs\\my-env\\lib\\site-packages (from tensorflow) (16.0.6)\n",
      "Requirement already satisfied: numpy>=1.20 in c:\\users\\perum\\anaconda3\\envs\\my-env\\lib\\site-packages (from tensorflow) (1.21.6)\n",
      "Requirement already satisfied: opt-einsum>=2.3.2 in c:\\users\\perum\\anaconda3\\envs\\my-env\\lib\\site-packages (from tensorflow) (3.3.0)\n",
      "Requirement already satisfied: packaging in c:\\users\\perum\\anaconda3\\envs\\my-env\\lib\\site-packages (from tensorflow) (23.2)\n",
      "Requirement already satisfied: protobuf<3.20,>=3.9.2 in c:\\users\\perum\\anaconda3\\envs\\my-env\\lib\\site-packages (from tensorflow) (3.19.6)\n",
      "Requirement already satisfied: setuptools in c:\\users\\perum\\anaconda3\\envs\\my-env\\lib\\site-packages (from tensorflow) (68.2.2)\n",
      "Requirement already satisfied: six>=1.12.0 in c:\\users\\perum\\anaconda3\\envs\\my-env\\lib\\site-packages (from tensorflow) (1.16.0)\n",
      "Requirement already satisfied: termcolor>=1.1.0 in c:\\users\\perum\\anaconda3\\envs\\my-env\\lib\\site-packages (from tensorflow) (2.3.0)\n",
      "Requirement already satisfied: typing-extensions>=3.6.6 in c:\\users\\perum\\anaconda3\\envs\\my-env\\lib\\site-packages (from tensorflow) (4.7.1)\n",
      "Requirement already satisfied: wrapt>=1.11.0 in c:\\users\\perum\\anaconda3\\envs\\my-env\\lib\\site-packages (from tensorflow) (1.14.1)\n",
      "Requirement already satisfied: tensorflow-io-gcs-filesystem>=0.23.1 in c:\\users\\perum\\anaconda3\\envs\\my-env\\lib\\site-packages (from tensorflow) (0.31.0)\n",
      "Requirement already satisfied: grpcio<2.0,>=1.24.3 in c:\\users\\perum\\anaconda3\\envs\\my-env\\lib\\site-packages (from tensorflow) (1.48.1)\n",
      "Requirement already satisfied: tensorboard<2.11,>=2.10 in c:\\users\\perum\\anaconda3\\envs\\my-env\\lib\\site-packages (from tensorflow) (2.10.1)\n",
      "Requirement already satisfied: tensorflow-estimator<2.11,>=2.10.0 in c:\\users\\perum\\anaconda3\\envs\\my-env\\lib\\site-packages (from tensorflow) (2.10.0)\n",
      "Requirement already satisfied: keras<2.11,>=2.10.0 in c:\\users\\perum\\anaconda3\\envs\\my-env\\lib\\site-packages (from tensorflow) (2.10.0)\n",
      "Requirement already satisfied: wheel<1.0,>=0.23.0 in c:\\users\\perum\\anaconda3\\envs\\my-env\\lib\\site-packages (from astunparse>=1.6.0->tensorflow) (0.42.0)\n",
      "Requirement already satisfied: google-auth<3,>=1.6.3 in c:\\users\\perum\\anaconda3\\envs\\my-env\\lib\\site-packages (from tensorboard<2.11,>=2.10->tensorflow) (2.24.0)\n",
      "Requirement already satisfied: google-auth-oauthlib<0.5,>=0.4.1 in c:\\users\\perum\\anaconda3\\envs\\my-env\\lib\\site-packages (from tensorboard<2.11,>=2.10->tensorflow) (0.4.6)\n",
      "Requirement already satisfied: markdown>=2.6.8 in c:\\users\\perum\\anaconda3\\envs\\my-env\\lib\\site-packages (from tensorboard<2.11,>=2.10->tensorflow) (3.5.1)\n",
      "Requirement already satisfied: requests<3,>=2.21.0 in c:\\users\\perum\\anaconda3\\envs\\my-env\\lib\\site-packages (from tensorboard<2.11,>=2.10->tensorflow) (2.31.0)\n",
      "Requirement already satisfied: tensorboard-data-server<0.7.0,>=0.6.0 in c:\\users\\perum\\anaconda3\\envs\\my-env\\lib\\site-packages (from tensorboard<2.11,>=2.10->tensorflow) (0.6.0)\n",
      "Requirement already satisfied: tensorboard-plugin-wit>=1.6.0 in c:\\users\\perum\\anaconda3\\envs\\my-env\\lib\\site-packages (from tensorboard<2.11,>=2.10->tensorflow) (1.8.1)\n",
      "Requirement already satisfied: werkzeug>=1.0.1 in c:\\users\\perum\\anaconda3\\envs\\my-env\\lib\\site-packages (from tensorboard<2.11,>=2.10->tensorflow) (2.2.3)\n",
      "Requirement already satisfied: cachetools<6.0,>=2.0.0 in c:\\users\\perum\\anaconda3\\envs\\my-env\\lib\\site-packages (from google-auth<3,>=1.6.3->tensorboard<2.11,>=2.10->tensorflow) (5.3.2)\n",
      "Requirement already satisfied: pyasn1-modules>=0.2.1 in c:\\users\\perum\\anaconda3\\envs\\my-env\\lib\\site-packages (from google-auth<3,>=1.6.3->tensorboard<2.11,>=2.10->tensorflow) (0.3.0)\n",
      "Requirement already satisfied: rsa<5,>=3.1.4 in c:\\users\\perum\\anaconda3\\envs\\my-env\\lib\\site-packages (from google-auth<3,>=1.6.3->tensorboard<2.11,>=2.10->tensorflow) (4.9)\n",
      "Requirement already satisfied: requests-oauthlib>=0.7.0 in c:\\users\\perum\\anaconda3\\envs\\my-env\\lib\\site-packages (from google-auth-oauthlib<0.5,>=0.4.1->tensorboard<2.11,>=2.10->tensorflow) (1.3.1)\n",
      "Requirement already satisfied: importlib-metadata>=4.4 in c:\\users\\perum\\anaconda3\\envs\\my-env\\lib\\site-packages (from markdown>=2.6.8->tensorboard<2.11,>=2.10->tensorflow) (4.11.4)\n",
      "Requirement already satisfied: charset-normalizer<4,>=2 in c:\\users\\perum\\anaconda3\\envs\\my-env\\lib\\site-packages (from requests<3,>=2.21.0->tensorboard<2.11,>=2.10->tensorflow) (3.3.2)\n",
      "Requirement already satisfied: idna<4,>=2.5 in c:\\users\\perum\\anaconda3\\envs\\my-env\\lib\\site-packages (from requests<3,>=2.21.0->tensorboard<2.11,>=2.10->tensorflow) (3.6)\n",
      "Requirement already satisfied: urllib3<3,>=1.21.1 in c:\\users\\perum\\anaconda3\\envs\\my-env\\lib\\site-packages (from requests<3,>=2.21.0->tensorboard<2.11,>=2.10->tensorflow) (2.1.0)\n",
      "Requirement already satisfied: certifi>=2017.4.17 in c:\\users\\perum\\anaconda3\\envs\\my-env\\lib\\site-packages (from requests<3,>=2.21.0->tensorboard<2.11,>=2.10->tensorflow) (2023.11.17)\n",
      "Requirement already satisfied: MarkupSafe>=2.1.1 in c:\\users\\perum\\anaconda3\\envs\\my-env\\lib\\site-packages (from werkzeug>=1.0.1->tensorboard<2.11,>=2.10->tensorflow) (2.1.1)\n",
      "Requirement already satisfied: zipp>=0.5 in c:\\users\\perum\\anaconda3\\envs\\my-env\\lib\\site-packages (from importlib-metadata>=4.4->markdown>=2.6.8->tensorboard<2.11,>=2.10->tensorflow) (3.15.0)\n",
      "Requirement already satisfied: pyasn1<0.6.0,>=0.4.6 in c:\\users\\perum\\anaconda3\\envs\\my-env\\lib\\site-packages (from pyasn1-modules>=0.2.1->google-auth<3,>=1.6.3->tensorboard<2.11,>=2.10->tensorflow) (0.5.1)\n",
      "Requirement already satisfied: oauthlib>=3.0.0 in c:\\users\\perum\\anaconda3\\envs\\my-env\\lib\\site-packages (from requests-oauthlib>=0.7.0->google-auth-oauthlib<0.5,>=0.4.1->tensorboard<2.11,>=2.10->tensorflow) (3.2.2)\n",
      "Note: you may need to restart the kernel to use updated packages.\n"
     ]
    }
   ],
   "source": [
    "pip install tensorflow"
   ]
  },
  {
   "cell_type": "code",
   "execution_count": 23,
   "id": "d6a9c6ac",
   "metadata": {},
   "outputs": [
    {
     "name": "stdout",
     "output_type": "stream",
     "text": [
      "Requirement already satisfied: tensorflow in c:\\users\\perum\\anaconda3\\envs\\my-env\\lib\\site-packages (2.10.0)\n",
      "Requirement already satisfied: absl-py>=1.0.0 in c:\\users\\perum\\anaconda3\\envs\\my-env\\lib\\site-packages (from tensorflow) (2.0.0)\n",
      "Requirement already satisfied: astunparse>=1.6.0 in c:\\users\\perum\\anaconda3\\envs\\my-env\\lib\\site-packages (from tensorflow) (1.6.3)\n",
      "Requirement already satisfied: flatbuffers>=2.0 in c:\\users\\perum\\anaconda3\\envs\\my-env\\lib\\site-packages (from tensorflow) (23.5.26)\n",
      "Requirement already satisfied: gast<=0.4.0,>=0.2.1 in c:\\users\\perum\\anaconda3\\envs\\my-env\\lib\\site-packages (from tensorflow) (0.4.0)\n",
      "Requirement already satisfied: google-pasta>=0.1.1 in c:\\users\\perum\\anaconda3\\envs\\my-env\\lib\\site-packages (from tensorflow) (0.2.0)\n",
      "Requirement already satisfied: h5py>=2.9.0 in c:\\users\\perum\\anaconda3\\envs\\my-env\\lib\\site-packages (from tensorflow) (3.7.0)\n",
      "Requirement already satisfied: keras-preprocessing>=1.1.1 in c:\\users\\perum\\anaconda3\\envs\\my-env\\lib\\site-packages (from tensorflow) (1.1.2)\n",
      "Requirement already satisfied: libclang>=13.0.0 in c:\\users\\perum\\anaconda3\\envs\\my-env\\lib\\site-packages (from tensorflow) (16.0.6)\n",
      "Requirement already satisfied: numpy>=1.20 in c:\\users\\perum\\anaconda3\\envs\\my-env\\lib\\site-packages (from tensorflow) (1.21.6)\n",
      "Requirement already satisfied: opt-einsum>=2.3.2 in c:\\users\\perum\\anaconda3\\envs\\my-env\\lib\\site-packages (from tensorflow) (3.3.0)\n",
      "Requirement already satisfied: packaging in c:\\users\\perum\\anaconda3\\envs\\my-env\\lib\\site-packages (from tensorflow) (23.2)\n",
      "Requirement already satisfied: protobuf<3.20,>=3.9.2 in c:\\users\\perum\\anaconda3\\envs\\my-env\\lib\\site-packages (from tensorflow) (3.19.6)\n",
      "Requirement already satisfied: setuptools in c:\\users\\perum\\anaconda3\\envs\\my-env\\lib\\site-packages (from tensorflow) (68.2.2)\n",
      "Requirement already satisfied: six>=1.12.0 in c:\\users\\perum\\anaconda3\\envs\\my-env\\lib\\site-packages (from tensorflow) (1.16.0)\n",
      "Requirement already satisfied: termcolor>=1.1.0 in c:\\users\\perum\\anaconda3\\envs\\my-env\\lib\\site-packages (from tensorflow) (2.3.0)\n",
      "Requirement already satisfied: typing-extensions>=3.6.6 in c:\\users\\perum\\anaconda3\\envs\\my-env\\lib\\site-packages (from tensorflow) (4.7.1)\n",
      "Requirement already satisfied: wrapt>=1.11.0 in c:\\users\\perum\\anaconda3\\envs\\my-env\\lib\\site-packages (from tensorflow) (1.14.1)\n",
      "Requirement already satisfied: tensorflow-io-gcs-filesystem>=0.23.1 in c:\\users\\perum\\anaconda3\\envs\\my-env\\lib\\site-packages (from tensorflow) (0.31.0)\n",
      "Requirement already satisfied: grpcio<2.0,>=1.24.3 in c:\\users\\perum\\anaconda3\\envs\\my-env\\lib\\site-packages (from tensorflow) (1.48.1)\n",
      "Requirement already satisfied: tensorboard<2.11,>=2.10 in c:\\users\\perum\\anaconda3\\envs\\my-env\\lib\\site-packages (from tensorflow) (2.10.1)\n",
      "Requirement already satisfied: tensorflow-estimator<2.11,>=2.10.0 in c:\\users\\perum\\anaconda3\\envs\\my-env\\lib\\site-packages (from tensorflow) (2.10.0)\n",
      "Requirement already satisfied: keras<2.11,>=2.10.0 in c:\\users\\perum\\anaconda3\\envs\\my-env\\lib\\site-packages (from tensorflow) (2.10.0)\n",
      "Requirement already satisfied: wheel<1.0,>=0.23.0 in c:\\users\\perum\\anaconda3\\envs\\my-env\\lib\\site-packages (from astunparse>=1.6.0->tensorflow) (0.42.0)\n",
      "Requirement already satisfied: google-auth<3,>=1.6.3 in c:\\users\\perum\\anaconda3\\envs\\my-env\\lib\\site-packages (from tensorboard<2.11,>=2.10->tensorflow) (2.24.0)\n",
      "Requirement already satisfied: google-auth-oauthlib<0.5,>=0.4.1 in c:\\users\\perum\\anaconda3\\envs\\my-env\\lib\\site-packages (from tensorboard<2.11,>=2.10->tensorflow) (0.4.6)\n",
      "Requirement already satisfied: markdown>=2.6.8 in c:\\users\\perum\\anaconda3\\envs\\my-env\\lib\\site-packages (from tensorboard<2.11,>=2.10->tensorflow) (3.5.1)\n",
      "Requirement already satisfied: requests<3,>=2.21.0 in c:\\users\\perum\\anaconda3\\envs\\my-env\\lib\\site-packages (from tensorboard<2.11,>=2.10->tensorflow) (2.31.0)\n",
      "Requirement already satisfied: tensorboard-data-server<0.7.0,>=0.6.0 in c:\\users\\perum\\anaconda3\\envs\\my-env\\lib\\site-packages (from tensorboard<2.11,>=2.10->tensorflow) (0.6.0)\n",
      "Requirement already satisfied: tensorboard-plugin-wit>=1.6.0 in c:\\users\\perum\\anaconda3\\envs\\my-env\\lib\\site-packages (from tensorboard<2.11,>=2.10->tensorflow) (1.8.1)\n",
      "Requirement already satisfied: werkzeug>=1.0.1 in c:\\users\\perum\\anaconda3\\envs\\my-env\\lib\\site-packages (from tensorboard<2.11,>=2.10->tensorflow) (2.2.3)\n",
      "Requirement already satisfied: cachetools<6.0,>=2.0.0 in c:\\users\\perum\\anaconda3\\envs\\my-env\\lib\\site-packages (from google-auth<3,>=1.6.3->tensorboard<2.11,>=2.10->tensorflow) (5.3.2)\n",
      "Requirement already satisfied: pyasn1-modules>=0.2.1 in c:\\users\\perum\\anaconda3\\envs\\my-env\\lib\\site-packages (from google-auth<3,>=1.6.3->tensorboard<2.11,>=2.10->tensorflow) (0.3.0)\n",
      "Requirement already satisfied: rsa<5,>=3.1.4 in c:\\users\\perum\\anaconda3\\envs\\my-env\\lib\\site-packages (from google-auth<3,>=1.6.3->tensorboard<2.11,>=2.10->tensorflow) (4.9)\n",
      "Requirement already satisfied: requests-oauthlib>=0.7.0 in c:\\users\\perum\\anaconda3\\envs\\my-env\\lib\\site-packages (from google-auth-oauthlib<0.5,>=0.4.1->tensorboard<2.11,>=2.10->tensorflow) (1.3.1)\n",
      "Requirement already satisfied: importlib-metadata>=4.4 in c:\\users\\perum\\anaconda3\\envs\\my-env\\lib\\site-packages (from markdown>=2.6.8->tensorboard<2.11,>=2.10->tensorflow) (4.11.4)\n",
      "Requirement already satisfied: charset-normalizer<4,>=2 in c:\\users\\perum\\anaconda3\\envs\\my-env\\lib\\site-packages (from requests<3,>=2.21.0->tensorboard<2.11,>=2.10->tensorflow) (3.3.2)\n",
      "Requirement already satisfied: idna<4,>=2.5 in c:\\users\\perum\\anaconda3\\envs\\my-env\\lib\\site-packages (from requests<3,>=2.21.0->tensorboard<2.11,>=2.10->tensorflow) (3.6)\n",
      "Requirement already satisfied: urllib3<3,>=1.21.1 in c:\\users\\perum\\anaconda3\\envs\\my-env\\lib\\site-packages (from requests<3,>=2.21.0->tensorboard<2.11,>=2.10->tensorflow) (2.1.0)\n",
      "Requirement already satisfied: certifi>=2017.4.17 in c:\\users\\perum\\anaconda3\\envs\\my-env\\lib\\site-packages (from requests<3,>=2.21.0->tensorboard<2.11,>=2.10->tensorflow) (2023.11.17)\n",
      "Requirement already satisfied: MarkupSafe>=2.1.1 in c:\\users\\perum\\anaconda3\\envs\\my-env\\lib\\site-packages (from werkzeug>=1.0.1->tensorboard<2.11,>=2.10->tensorflow) (2.1.1)\n",
      "Requirement already satisfied: zipp>=0.5 in c:\\users\\perum\\anaconda3\\envs\\my-env\\lib\\site-packages (from importlib-metadata>=4.4->markdown>=2.6.8->tensorboard<2.11,>=2.10->tensorflow) (3.15.0)\n",
      "Requirement already satisfied: pyasn1<0.6.0,>=0.4.6 in c:\\users\\perum\\anaconda3\\envs\\my-env\\lib\\site-packages (from pyasn1-modules>=0.2.1->google-auth<3,>=1.6.3->tensorboard<2.11,>=2.10->tensorflow) (0.5.1)\n",
      "Requirement already satisfied: oauthlib>=3.0.0 in c:\\users\\perum\\anaconda3\\envs\\my-env\\lib\\site-packages (from requests-oauthlib>=0.7.0->google-auth-oauthlib<0.5,>=0.4.1->tensorboard<2.11,>=2.10->tensorflow) (3.2.2)\n",
      "Note: you may need to restart the kernel to use updated packages.\n"
     ]
    }
   ],
   "source": [
    "pip install tensorflow"
   ]
  },
  {
   "cell_type": "code",
   "execution_count": 24,
   "id": "b4aa05c9",
   "metadata": {},
   "outputs": [
    {
     "name": "stdout",
     "output_type": "stream",
     "text": [
      "Requirement already satisfied: dataset in c:\\users\\perum\\anaconda3\\envs\\my-env\\lib\\site-packages (1.6.2)Note: you may need to restart the kernel to use updated packages.\n",
      "\n",
      "Requirement already satisfied: sqlalchemy<2.0.0,>=1.3.2 in c:\\users\\perum\\anaconda3\\envs\\my-env\\lib\\site-packages (from dataset) (1.4.50)\n",
      "Requirement already satisfied: alembic>=0.6.2 in c:\\users\\perum\\anaconda3\\envs\\my-env\\lib\\site-packages (from dataset) (1.12.1)\n",
      "Requirement already satisfied: banal>=1.0.1 in c:\\users\\perum\\anaconda3\\envs\\my-env\\lib\\site-packages (from dataset) (1.0.6)\n",
      "Requirement already satisfied: Mako in c:\\users\\perum\\anaconda3\\envs\\my-env\\lib\\site-packages (from alembic>=0.6.2->dataset) (1.2.4)\n",
      "Requirement already satisfied: typing-extensions>=4 in c:\\users\\perum\\anaconda3\\envs\\my-env\\lib\\site-packages (from alembic>=0.6.2->dataset) (4.7.1)\n",
      "Requirement already satisfied: importlib-metadata in c:\\users\\perum\\anaconda3\\envs\\my-env\\lib\\site-packages (from alembic>=0.6.2->dataset) (4.11.4)\n",
      "Requirement already satisfied: importlib-resources in c:\\users\\perum\\anaconda3\\envs\\my-env\\lib\\site-packages (from alembic>=0.6.2->dataset) (6.0.0)\n",
      "Requirement already satisfied: greenlet!=0.4.17 in c:\\users\\perum\\anaconda3\\envs\\my-env\\lib\\site-packages (from sqlalchemy<2.0.0,>=1.3.2->dataset) (3.0.1)\n",
      "Requirement already satisfied: zipp>=0.5 in c:\\users\\perum\\anaconda3\\envs\\my-env\\lib\\site-packages (from importlib-metadata->alembic>=0.6.2->dataset) (3.15.0)\n",
      "Requirement already satisfied: MarkupSafe>=0.9.2 in c:\\users\\perum\\anaconda3\\envs\\my-env\\lib\\site-packages (from Mako->alembic>=0.6.2->dataset) (2.1.1)\n"
     ]
    }
   ],
   "source": [
    "pip install dataset"
   ]
  },
  {
   "cell_type": "code",
   "execution_count": 25,
   "id": "92a092c6",
   "metadata": {},
   "outputs": [
    {
     "name": "stdout",
     "output_type": "stream",
     "text": [
      "Requirement already satisfied: keras in c:\\users\\perum\\anaconda3\\envs\\my-env\\lib\\site-packages (2.10.0)\n",
      "Note: you may need to restart the kernel to use updated packages.\n"
     ]
    }
   ],
   "source": [
    "pip install keras"
   ]
  },
  {
   "cell_type": "code",
   "execution_count": 26,
   "id": "e74aca10",
   "metadata": {},
   "outputs": [],
   "source": [
    "import tensorflow as tf\n",
    "from keras.preprocessing.text import Tokenizer\n",
    "from keras.layers import Embedding, LSTM, Dropout, Dense\n",
    "from keras.models import Sequential\n",
    "from keras.utils import to_categorical\n",
    "from keras_preprocessing.sequence import pad_sequences\n",
    "import tensorflow as tf"
   ]
  },
  {
   "cell_type": "code",
   "execution_count": 27,
   "id": "e1a0c3f4",
   "metadata": {},
   "outputs": [],
   "source": [
    "vocab_size = 400\n",
    "oov_tok = \"\"\n",
    "max_length = 250\n",
    "embedding_dim = 16\n",
    "encode = ({'ham': 0, 'spam': 1} )\n"
   ]
  },
  {
   "cell_type": "code",
   "execution_count": 28,
   "id": "eeba2b95",
   "metadata": {},
   "outputs": [],
   "source": [
    "X = dataset['message']\n",
    "Y = dataset['label']\n",
    "tokenizer = Tokenizer(num_words=vocab_size, oov_token=oov_tok)\n",
    "tokenizer.fit_on_texts(X)\n",
    "# convert to sequence of integers\n",
    "X = tokenizer.texts_to_sequences(X)"
   ]
  },
  {
   "cell_type": "code",
   "execution_count": 29,
   "id": "c0059014",
   "metadata": {},
   "outputs": [],
   "source": [
    "X = np.array(X,dtype=object)\n",
    "y = np.array(Y,dtype=object)"
   ]
  },
  {
   "cell_type": "code",
   "execution_count": 30,
   "id": "8ea82979",
   "metadata": {},
   "outputs": [],
   "source": [
    "X = pad_sequences(X, maxlen=max_length)"
   ]
  },
  {
   "cell_type": "code",
   "execution_count": 31,
   "id": "3a4f8ee4",
   "metadata": {},
   "outputs": [
    {
     "name": "stdout",
     "output_type": "stream",
     "text": [
      "Model: \"sequential\"\n",
      "_________________________________________________________________\n",
      " Layer (type)                Output Shape              Param #   \n",
      "=================================================================\n",
      " embedding (Embedding)       (None, 250, 16)           6400      \n",
      "                                                                 \n",
      " global_average_pooling1d (G  (None, 16)               0         \n",
      " lobalAveragePooling1D)                                          \n",
      "                                                                 \n",
      " dense (Dense)               (None, 24)                408       \n",
      "                                                                 \n",
      " dense_1 (Dense)             (None, 1)                 25        \n",
      "                                                                 \n",
      "=================================================================\n",
      "Total params: 6,833\n",
      "Trainable params: 6,833\n",
      "Non-trainable params: 0\n",
      "_________________________________________________________________\n"
     ]
    }
   ],
   "source": [
    "model = tf.keras.Sequential([\n",
    "    tf.keras.layers.Embedding(vocab_size, embedding_dim, input_length=max_length),\n",
    "    tf.keras.layers.GlobalAveragePooling1D(),\n",
    "    tf.keras.layers.Dense(24, activation='relu'),\n",
    "    tf.keras.layers.Dense(1, activation='sigmoid')\n",
    "])\n",
    "model.compile(loss='binary_crossentropy',optimizer='adam',metrics=['accuracy'])\n",
    "model.summary()"
   ]
  },
  {
   "cell_type": "code",
   "execution_count": 32,
   "id": "1a9b0273",
   "metadata": {},
   "outputs": [
    {
     "name": "stdout",
     "output_type": "stream",
     "text": [
      "Epoch 1/50\n",
      "140/140 - 2s - loss: 0.5311 - accuracy: 0.8429 - val_loss: 0.3830 - val_accuracy: 0.8700 - 2s/epoch - 16ms/step\n",
      "Epoch 2/50\n",
      "140/140 - 1s - loss: 0.3818 - accuracy: 0.8649 - val_loss: 0.3668 - val_accuracy: 0.8700 - 599ms/epoch - 4ms/step\n",
      "Epoch 3/50\n",
      "140/140 - 1s - loss: 0.3692 - accuracy: 0.8649 - val_loss: 0.3531 - val_accuracy: 0.8700 - 690ms/epoch - 5ms/step\n",
      "Epoch 4/50\n",
      "140/140 - 1s - loss: 0.3520 - accuracy: 0.8649 - val_loss: 0.3329 - val_accuracy: 0.8700 - 655ms/epoch - 5ms/step\n",
      "Epoch 5/50\n",
      "140/140 - 1s - loss: 0.3203 - accuracy: 0.8647 - val_loss: 0.2880 - val_accuracy: 0.8700 - 612ms/epoch - 4ms/step\n",
      "Epoch 6/50\n",
      "140/140 - 1s - loss: 0.2597 - accuracy: 0.8681 - val_loss: 0.2174 - val_accuracy: 0.8843 - 580ms/epoch - 4ms/step\n",
      "Epoch 7/50\n",
      "140/140 - 1s - loss: 0.1954 - accuracy: 0.9183 - val_loss: 0.1655 - val_accuracy: 0.9462 - 537ms/epoch - 4ms/step\n",
      "Epoch 8/50\n",
      "140/140 - 1s - loss: 0.1568 - accuracy: 0.9495 - val_loss: 0.1389 - val_accuracy: 0.9480 - 551ms/epoch - 4ms/step\n",
      "Epoch 9/50\n",
      "140/140 - 1s - loss: 0.1341 - accuracy: 0.9587 - val_loss: 0.1201 - val_accuracy: 0.9570 - 540ms/epoch - 4ms/step\n",
      "Epoch 10/50\n",
      "140/140 - 1s - loss: 0.1193 - accuracy: 0.9632 - val_loss: 0.1065 - val_accuracy: 0.9641 - 534ms/epoch - 4ms/step\n",
      "Epoch 11/50\n",
      "140/140 - 1s - loss: 0.1069 - accuracy: 0.9677 - val_loss: 0.0944 - val_accuracy: 0.9668 - 569ms/epoch - 4ms/step\n",
      "Epoch 12/50\n",
      "140/140 - 1s - loss: 0.0980 - accuracy: 0.9688 - val_loss: 0.0854 - val_accuracy: 0.9704 - 607ms/epoch - 4ms/step\n",
      "Epoch 13/50\n",
      "140/140 - 1s - loss: 0.0904 - accuracy: 0.9702 - val_loss: 0.0793 - val_accuracy: 0.9749 - 599ms/epoch - 4ms/step\n",
      "Epoch 14/50\n",
      "140/140 - 1s - loss: 0.0846 - accuracy: 0.9724 - val_loss: 0.0723 - val_accuracy: 0.9767 - 619ms/epoch - 4ms/step\n",
      "Epoch 15/50\n",
      "140/140 - 1s - loss: 0.0782 - accuracy: 0.9737 - val_loss: 0.0666 - val_accuracy: 0.9767 - 608ms/epoch - 4ms/step\n",
      "Epoch 16/50\n",
      "140/140 - 1s - loss: 0.0735 - accuracy: 0.9755 - val_loss: 0.0630 - val_accuracy: 0.9803 - 587ms/epoch - 4ms/step\n",
      "Epoch 17/50\n",
      "140/140 - 1s - loss: 0.0690 - accuracy: 0.9762 - val_loss: 0.0617 - val_accuracy: 0.9812 - 589ms/epoch - 4ms/step\n",
      "Epoch 18/50\n",
      "140/140 - 1s - loss: 0.0657 - accuracy: 0.9791 - val_loss: 0.0568 - val_accuracy: 0.9812 - 587ms/epoch - 4ms/step\n",
      "Epoch 19/50\n",
      "140/140 - 1s - loss: 0.0622 - accuracy: 0.9812 - val_loss: 0.0550 - val_accuracy: 0.9821 - 596ms/epoch - 4ms/step\n",
      "Epoch 20/50\n",
      "140/140 - 1s - loss: 0.0600 - accuracy: 0.9794 - val_loss: 0.0526 - val_accuracy: 0.9812 - 591ms/epoch - 4ms/step\n",
      "Epoch 21/50\n",
      "140/140 - 1s - loss: 0.0589 - accuracy: 0.9812 - val_loss: 0.0515 - val_accuracy: 0.9830 - 581ms/epoch - 4ms/step\n",
      "Epoch 22/50\n",
      "140/140 - 1s - loss: 0.0566 - accuracy: 0.9803 - val_loss: 0.0497 - val_accuracy: 0.9830 - 585ms/epoch - 4ms/step\n",
      "Epoch 23/50\n",
      "140/140 - 1s - loss: 0.0545 - accuracy: 0.9818 - val_loss: 0.0487 - val_accuracy: 0.9839 - 563ms/epoch - 4ms/step\n",
      "Epoch 24/50\n",
      "140/140 - 1s - loss: 0.0526 - accuracy: 0.9823 - val_loss: 0.0475 - val_accuracy: 0.9848 - 586ms/epoch - 4ms/step\n",
      "Epoch 25/50\n",
      "140/140 - 1s - loss: 0.0509 - accuracy: 0.9821 - val_loss: 0.0471 - val_accuracy: 0.9839 - 555ms/epoch - 4ms/step\n",
      "Epoch 26/50\n",
      "140/140 - 1s - loss: 0.0500 - accuracy: 0.9832 - val_loss: 0.0531 - val_accuracy: 0.9821 - 583ms/epoch - 4ms/step\n",
      "Epoch 27/50\n",
      "140/140 - 1s - loss: 0.0484 - accuracy: 0.9843 - val_loss: 0.0459 - val_accuracy: 0.9865 - 582ms/epoch - 4ms/step\n",
      "Epoch 28/50\n",
      "140/140 - 1s - loss: 0.0467 - accuracy: 0.9843 - val_loss: 0.0456 - val_accuracy: 0.9874 - 563ms/epoch - 4ms/step\n",
      "Epoch 29/50\n",
      "140/140 - 1s - loss: 0.0460 - accuracy: 0.9847 - val_loss: 0.0463 - val_accuracy: 0.9857 - 568ms/epoch - 4ms/step\n",
      "Epoch 30/50\n",
      "140/140 - 1s - loss: 0.0448 - accuracy: 0.9838 - val_loss: 0.0436 - val_accuracy: 0.9883 - 588ms/epoch - 4ms/step\n",
      "Epoch 31/50\n",
      "140/140 - 1s - loss: 0.0436 - accuracy: 0.9859 - val_loss: 0.0476 - val_accuracy: 0.9830 - 617ms/epoch - 4ms/step\n",
      "Epoch 32/50\n",
      "140/140 - 1s - loss: 0.0429 - accuracy: 0.9863 - val_loss: 0.0430 - val_accuracy: 0.9883 - 626ms/epoch - 4ms/step\n",
      "Epoch 33/50\n",
      "140/140 - 1s - loss: 0.0429 - accuracy: 0.9868 - val_loss: 0.0443 - val_accuracy: 0.9883 - 581ms/epoch - 4ms/step\n",
      "Epoch 34/50\n",
      "140/140 - 1s - loss: 0.0409 - accuracy: 0.9870 - val_loss: 0.0441 - val_accuracy: 0.9892 - 602ms/epoch - 4ms/step\n",
      "Epoch 35/50\n",
      "140/140 - 1s - loss: 0.0391 - accuracy: 0.9865 - val_loss: 0.0453 - val_accuracy: 0.9830 - 645ms/epoch - 5ms/step\n",
      "Epoch 36/50\n",
      "140/140 - 1s - loss: 0.0400 - accuracy: 0.9859 - val_loss: 0.0424 - val_accuracy: 0.9892 - 595ms/epoch - 4ms/step\n",
      "Epoch 37/50\n",
      "140/140 - 1s - loss: 0.0394 - accuracy: 0.9872 - val_loss: 0.0434 - val_accuracy: 0.9892 - 600ms/epoch - 4ms/step\n",
      "Epoch 38/50\n",
      "140/140 - 1s - loss: 0.0379 - accuracy: 0.9863 - val_loss: 0.0434 - val_accuracy: 0.9848 - 587ms/epoch - 4ms/step\n",
      "Epoch 39/50\n",
      "140/140 - 1s - loss: 0.0381 - accuracy: 0.9886 - val_loss: 0.0524 - val_accuracy: 0.9857 - 589ms/epoch - 4ms/step\n",
      "Epoch 40/50\n",
      "140/140 - 1s - loss: 0.0370 - accuracy: 0.9877 - val_loss: 0.0418 - val_accuracy: 0.9865 - 588ms/epoch - 4ms/step\n",
      "Epoch 41/50\n",
      "140/140 - 1s - loss: 0.0367 - accuracy: 0.9883 - val_loss: 0.0419 - val_accuracy: 0.9865 - 588ms/epoch - 4ms/step\n",
      "Epoch 42/50\n",
      "140/140 - 1s - loss: 0.0356 - accuracy: 0.9883 - val_loss: 0.0440 - val_accuracy: 0.9901 - 554ms/epoch - 4ms/step\n",
      "Epoch 43/50\n",
      "140/140 - 1s - loss: 0.0337 - accuracy: 0.9892 - val_loss: 0.0410 - val_accuracy: 0.9892 - 543ms/epoch - 4ms/step\n",
      "Epoch 44/50\n",
      "140/140 - 1s - loss: 0.0343 - accuracy: 0.9879 - val_loss: 0.0415 - val_accuracy: 0.9901 - 539ms/epoch - 4ms/step\n",
      "Epoch 45/50\n",
      "140/140 - 1s - loss: 0.0338 - accuracy: 0.9899 - val_loss: 0.0411 - val_accuracy: 0.9883 - 574ms/epoch - 4ms/step\n",
      "Epoch 46/50\n",
      "140/140 - 1s - loss: 0.0328 - accuracy: 0.9895 - val_loss: 0.0412 - val_accuracy: 0.9901 - 594ms/epoch - 4ms/step\n",
      "Epoch 47/50\n",
      "140/140 - 1s - loss: 0.0322 - accuracy: 0.9897 - val_loss: 0.0412 - val_accuracy: 0.9901 - 581ms/epoch - 4ms/step\n",
      "Epoch 48/50\n",
      "140/140 - 1s - loss: 0.0320 - accuracy: 0.9892 - val_loss: 0.0412 - val_accuracy: 0.9901 - 630ms/epoch - 4ms/step\n",
      "Epoch 49/50\n",
      "140/140 - 1s - loss: 0.0310 - accuracy: 0.9901 - val_loss: 0.0419 - val_accuracy: 0.9883 - 606ms/epoch - 4ms/step\n",
      "Epoch 50/50\n",
      "140/140 - 1s - loss: 0.0310 - accuracy: 0.9886 - val_loss: 0.0479 - val_accuracy: 0.9892 - 572ms/epoch - 4ms/step\n"
     ]
    }
   ],
   "source": [
    "num_epochs = 50\n",
    "X_train, X_test, y_train, y_test = train_test_split(X, Y, test_size=.20, random_state=7)\n",
    "history = model.fit(X_train, y_train, epochs=num_epochs, validation_data=(X_test,y_test), verbose=2)"
   ]
  },
  {
   "cell_type": "code",
   "execution_count": 33,
   "id": "c6600313",
   "metadata": {},
   "outputs": [
    {
     "name": "stdout",
     "output_type": "stream",
     "text": [
      "35/35 [==============================] - 0s 3ms/step - loss: 0.0479 - accuracy: 0.9892\n",
      "[+] Accuracy: 98.92%\n"
     ]
    }
   ],
   "source": [
    "results = model.evaluate(X_test, y_test)\n",
    "loss = results[0]\n",
    "accuracy = results[1]\n",
    "\n",
    "\n",
    "print(f\"[+] Accuracy: {accuracy*100:.2f}%\")"
   ]
  },
  {
   "cell_type": "code",
   "execution_count": 45,
   "id": "c024c2b9",
   "metadata": {},
   "outputs": [
    {
     "name": "stdout",
     "output_type": "stream",
     "text": [
      "Requirement already satisfied: Keras_Preprocessing in c:\\users\\perum\\anaconda3\\envs\\my-env\\lib\\site-packages (1.1.2)\n",
      "Requirement already satisfied: numpy>=1.9.1 in c:\\users\\perum\\anaconda3\\envs\\my-env\\lib\\site-packages (from Keras_Preprocessing) (1.21.6)\n",
      "Requirement already satisfied: six>=1.9.0 in c:\\users\\perum\\anaconda3\\envs\\my-env\\lib\\site-packages (from Keras_Preprocessing) (1.16.0)\n",
      "Note: you may need to restart the kernel to use updated packages.\n"
     ]
    }
   ],
   "source": [
    "pip install Keras_Preprocessing"
   ]
  },
  {
   "cell_type": "code",
   "execution_count": 46,
   "id": "8740b733",
   "metadata": {},
   "outputs": [],
   "source": [
    "from keras_preprocessing import sequence\n",
    "from keras_preprocessing.sequence import pad_sequences\n"
   ]
  },
  {
   "cell_type": "code",
   "execution_count": 47,
   "id": "2779dbf7",
   "metadata": {},
   "outputs": [],
   "source": [
    "#Defining the function\n",
    "def get_predictions(txts):\n",
    "    txts = tokenizer.texts_to_sequences(txts)\n",
    "    txts = sequence.pad_sequences(txts, maxlen=max_length)\n",
    "    preds = model.predict(txts)\n",
    "    if(preds[0] > 0.5):\n",
    "        print(\"SPAM MESSAGE\")\n",
    "        \n",
    "    else:\n",
    "        print('NOT SPAM')"
   ]
  },
  {
   "cell_type": "code",
   "execution_count": 48,
   "id": "8eb0d554",
   "metadata": {},
   "outputs": [
    {
     "name": "stdout",
     "output_type": "stream",
     "text": [
      "1/1 [==============================] - 5s 5s/step\n",
      "SPAM MESSAGE\n"
     ]
    }
   ],
   "source": [
    "txts=[\"You have won a free ticket to las vegas. Contact now\"]\n",
    "\n",
    "get_predictions(txts)"
   ]
  },
  {
   "cell_type": "code",
   "execution_count": 49,
   "id": "b8c5fea1",
   "metadata": {},
   "outputs": [
    {
     "name": "stdout",
     "output_type": "stream",
     "text": [
      "1/1 [==============================] - 0s 47ms/step\n",
      "NOT SPAM\n"
     ]
    }
   ],
   "source": [
    "txts=[\"Hey there call me asap!!\"]\n",
    "\n",
    "get_predictions(txts)"
   ]
  },
  {
   "cell_type": "code",
   "execution_count": null,
   "id": "cb949a72",
   "metadata": {},
   "outputs": [],
   "source": []
  }
 ],
 "metadata": {
  "kernelspec": {
   "display_name": "Python 3 (ipykernel)",
   "language": "python",
   "name": "python3"
  },
  "language_info": {
   "codemirror_mode": {
    "name": "ipython",
    "version": 3
   },
   "file_extension": ".py",
   "mimetype": "text/x-python",
   "name": "python",
   "nbconvert_exporter": "python",
   "pygments_lexer": "ipython3",
   "version": "3.7.12"
  }
 },
 "nbformat": 4,
 "nbformat_minor": 5
}
